{
 "cells": [
  {
   "cell_type": "code",
   "execution_count": 1,
   "metadata": {},
   "outputs": [],
   "source": [
    "# Imports\n",
    "import requests, json"
   ]
  },
  {
   "cell_type": "code",
   "execution_count": 17,
   "metadata": {},
   "outputs": [],
   "source": [
    "# Requisição\n",
    "response = requests.get('https://viacep.com.br/ws/70070710/json/')"
   ]
  },
  {
   "cell_type": "code",
   "execution_count": 12,
   "metadata": {},
   "outputs": [
    {
     "name": "stdout",
     "output_type": "stream",
     "text": [
      "200\n"
     ]
    }
   ],
   "source": [
    "print(response.status_code)"
   ]
  },
  {
   "cell_type": "code",
   "execution_count": 13,
   "metadata": {},
   "outputs": [
    {
     "name": "stdout",
     "output_type": "stream",
     "text": [
      "{'cep': '70070-710', 'logradouro': 'SRPN', 'complemento': 'Autódromo Internacional Nelson Piquet', 'bairro': 'Asa Norte', 'localidade': 'Brasília', 'uf': 'DF', 'ibge': '5300108', 'gia': '', 'ddd': '61', 'siafi': '9701'}\n"
     ]
    }
   ],
   "source": [
    "print(response.json())"
   ]
  },
  {
   "cell_type": "code",
   "execution_count": 16,
   "metadata": {},
   "outputs": [],
   "source": [
    "# Função para imprimir em formato json\n",
    "def jprint(obj):\n",
    "\ttext = json.dumps(obj, sort_keys=True, indent=4)\n",
    "\tprint(text)"
   ]
  },
  {
   "cell_type": "code",
   "execution_count": 15,
   "metadata": {},
   "outputs": [
    {
     "name": "stdout",
     "output_type": "stream",
     "text": [
      "{\n",
      "    \"bairro\": \"Asa Norte\",\n",
      "    \"cep\": \"70070-710\",\n",
      "    \"complemento\": \"Aut\\u00f3dromo Internacional Nelson Piquet\",\n",
      "    \"ddd\": \"61\",\n",
      "    \"gia\": \"\",\n",
      "    \"ibge\": \"5300108\",\n",
      "    \"localidade\": \"Bras\\u00edlia\",\n",
      "    \"logradouro\": \"SRPN\",\n",
      "    \"siafi\": \"9701\",\n",
      "    \"uf\": \"DF\"\n",
      "}\n"
     ]
    }
   ],
   "source": [
    "jprint(response.json())"
   ]
  },
  {
   "cell_type": "code",
   "execution_count": 18,
   "metadata": {},
   "outputs": [
    {
     "name": "stdout",
     "output_type": "stream",
     "text": [
      "Digite o CEP: 70070710\n"
     ]
    }
   ],
   "source": [
    "# Passando o cep dinamicamente\n",
    "cep = input('Digite o CEP: ')\n",
    "response = requests.get(f'https://viacep.com.br/ws/{cep}/json/')"
   ]
  },
  {
   "cell_type": "code",
   "execution_count": 19,
   "metadata": {},
   "outputs": [
    {
     "name": "stdout",
     "output_type": "stream",
     "text": [
      "{\n",
      "    \"bairro\": \"Asa Norte\",\n",
      "    \"cep\": \"70070-710\",\n",
      "    \"complemento\": \"Aut\\u00f3dromo Internacional Nelson Piquet\",\n",
      "    \"ddd\": \"61\",\n",
      "    \"gia\": \"\",\n",
      "    \"ibge\": \"5300108\",\n",
      "    \"localidade\": \"Bras\\u00edlia\",\n",
      "    \"logradouro\": \"SRPN\",\n",
      "    \"siafi\": \"9701\",\n",
      "    \"uf\": \"DF\"\n",
      "}\n"
     ]
    }
   ],
   "source": [
    "jprint(response.json())"
   ]
  },
  {
   "cell_type": "code",
   "execution_count": 20,
   "metadata": {},
   "outputs": [
    {
     "name": "stdout",
     "output_type": "stream",
     "text": [
      "\"Aut\\u00f3dromo Internacional Nelson Piquet\"\n"
     ]
    }
   ],
   "source": [
    "# Extraindo dados\n",
    "complemento = response.json()['complemento']\n",
    "jprint(complemento)"
   ]
  }
 ],
 "metadata": {
  "kernelspec": {
   "display_name": "Python 3",
   "language": "python",
   "name": "python3"
  },
  "language_info": {
   "codemirror_mode": {
    "name": "ipython",
    "version": 3
   },
   "file_extension": ".py",
   "mimetype": "text/x-python",
   "name": "python",
   "nbconvert_exporter": "python",
   "pygments_lexer": "ipython3",
   "version": "3.7.9"
  }
 },
 "nbformat": 4,
 "nbformat_minor": 4
}
